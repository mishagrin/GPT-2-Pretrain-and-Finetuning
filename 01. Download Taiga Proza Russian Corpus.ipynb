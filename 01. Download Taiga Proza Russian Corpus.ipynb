{
 "cells": [
  {
   "cell_type": "markdown",
   "id": "535896fb-31d5-4ff3-a21a-b43acef549e9",
   "metadata": {},
   "source": [
    "# Download Taiga Proza Corpus\n",
    "\n",
    "#### Stream from Huggingface"
   ]
  },
  {
   "cell_type": "code",
   "execution_count": null,
   "id": "5fed6cbe-a960-4dab-bc81-149c9d08e4e1",
   "metadata": {},
   "outputs": [],
   "source": [
    "from datasets import load_dataset\n",
    "\n",
    "taiga_proza_dataset = load_dataset(\"cointegrated/taiga_stripped_proza\", streaming=True)\n",
    "taiga_proza_dataset"
   ]
  },
  {
   "cell_type": "markdown",
   "id": "a0458153-3b3e-44c6-85d8-86997539803b",
   "metadata": {},
   "source": [
    "#### Get samples\n",
    "\n",
    "1G is the ~43_350 samples. For best results you need to download whole dataset."
   ]
  },
  {
   "cell_type": "code",
   "execution_count": null,
   "id": "3bf38108-dc8d-4294-af28-e8c7d679eef9",
   "metadata": {
    "scrolled": true
   },
   "outputs": [],
   "source": [
    "%%time\n",
    "\n",
    "from typing import Dict\n",
    "\n",
    "# How much samples to collect\n",
    "samples_count = 43_350\n",
    "\n",
    "# Collect samples here\n",
    "taiga_proza_samples: list[Dict[str, str]] = []\n",
    "\n",
    "# Count samples from 1\n",
    "i = 1\n",
    "\n",
    "for sample in taiga_proza_dataset['train']:\n",
    "    # Append sample to the list\n",
    "    taiga_proza_samples.append(sample)\n",
    "\n",
    "    # Stop then it reached target samples_count\n",
    "    if i == samples_count:\n",
    "        break\n",
    "\n",
    "    # Count that sample\n",
    "    i+= 1\n",
    "\n",
    "taiga_proza_samples"
   ]
  },
  {
   "cell_type": "markdown",
   "id": "b65390aa-1648-4133-99b5-39b7f27b6650",
   "metadata": {},
   "source": [
    "#### Save to csv"
   ]
  },
  {
   "cell_type": "code",
   "execution_count": null,
   "id": "b2ea6ec9-abff-43ca-a151-671e533ed314",
   "metadata": {},
   "outputs": [],
   "source": [
    "import pandas as pd\n",
    "\n",
    "# Check samples\n",
    "taiga_proza_df = pd.DataFrame(taiga_proza_samples)\n",
    "taiga_proza_df.head()"
   ]
  },
  {
   "cell_type": "code",
   "execution_count": null,
   "id": "3779ee70-8dc5-4b71-a85b-1f12b444c02b",
   "metadata": {},
   "outputs": [],
   "source": [
    "from pathlib import Path\n",
    "\n",
    "datasets_src = Path('datasets')\n",
    "datasets_src.mkdir(exist_ok=True)"
   ]
  },
  {
   "cell_type": "code",
   "execution_count": null,
   "id": "26eb6400-cfff-4788-84fd-924c26c564e6",
   "metadata": {},
   "outputs": [],
   "source": [
    "taiga_proza_df.to_csv(datasets_src/'taiga_proza_1GB_43350.csv', sep='|', encoding='utf-8-sig', index=False)"
   ]
  }
 ],
 "metadata": {
  "kernelspec": {
   "display_name": "Python 3 (ipykernel)",
   "language": "python",
   "name": "python3"
  },
  "language_info": {
   "codemirror_mode": {
    "name": "ipython",
    "version": 3
   },
   "file_extension": ".py",
   "mimetype": "text/x-python",
   "name": "python",
   "nbconvert_exporter": "python",
   "pygments_lexer": "ipython3",
   "version": "3.9.21"
  }
 },
 "nbformat": 4,
 "nbformat_minor": 5
}
